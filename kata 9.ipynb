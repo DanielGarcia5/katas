{
 "cells": [
  {
   "cell_type": "markdown",
   "metadata": {},
   "source": [
    "# Combustible en la nave\n"
   ]
  },
  {
   "cell_type": "code",
   "execution_count": 4,
   "metadata": {},
   "outputs": [
    {
     "name": "stdout",
     "output_type": "stream",
     "text": [
      "Repote:\n",
      "    Promedio tanques: 81.0%\n",
      "    Tanque interno: 75%\n",
      "    Tanque externo: 90%\n",
      "    Tanque de hidrogeno: 78%\n",
      "        \n"
     ]
    }
   ],
   "source": [
    "def generando_reporte(interno, externo, hydrogeno):\n",
    "    Promedio_tanques = (interno + externo + hydrogeno) / 3\n",
    "    return f\"\"\"Repote:\n",
    "    Promedio tanques: {Promedio_tanques}%\n",
    "    Tanque interno: {interno}%\n",
    "    Tanque externo: {externo}%\n",
    "    Tanque de hidrogeno: {hydrogeno}%\n",
    "        \"\"\"\n",
    "print(generando_reporte(75, 90, 78))"
   ]
  },
  {
   "cell_type": "code",
   "execution_count": 13,
   "metadata": {},
   "outputs": [
    {
     "name": "stdout",
     "output_type": "stream",
     "text": [
      "Repote:\n",
      "    Promedio tanques: 78.0%\n",
      "    Tanque interno: 88%\n",
      "    Tanque externo: 76%\n",
      "    Tanque de hidrogeno: 70%\n",
      "        \n"
     ]
    }
   ],
   "source": [
    "promedio([80, 85, 81])\n",
    "def promedio(valores):\n",
    "    total = sum(valores)\n",
    "    numero = len(valores)\n",
    "    return total / numero\n",
    "def generando_reporte(interno, externo, hydrogeno):\n",
    "    Promedio_tanques = (interno + externo + hydrogeno) / 3\n",
    "    return f\"\"\"Repote:\n",
    "    Promedio tanques: {Promedio_tanques}%\n",
    "    Tanque interno: {interno}%\n",
    "    Tanque externo: {externo}%\n",
    "    Tanque de hidrogeno: {hydrogeno}%\n",
    "        \"\"\"\n",
    "print(generando_reporte(88, 76, 70))\n"
   ]
  }
 ],
 "metadata": {
  "interpreter": {
   "hash": "3a555e031f921cec308b85ca21a0e976ded3f2bd321f13a8ca2fe088965d48db"
  },
  "kernelspec": {
   "display_name": "Python 3.9.10 64-bit (windows store)",
   "language": "python",
   "name": "python3"
  },
  "language_info": {
   "codemirror_mode": {
    "name": "ipython",
    "version": 3
   },
   "file_extension": ".py",
   "mimetype": "text/x-python",
   "name": "python",
   "nbconvert_exporter": "python",
   "pygments_lexer": "ipython3",
   "version": "3.9.10"
  },
  "orig_nbformat": 4
 },
 "nbformat": 4,
 "nbformat_minor": 2
}
