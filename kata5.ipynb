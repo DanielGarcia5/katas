{
 "cells": [
  {
   "cell_type": "markdown",
   "metadata": {},
   "source": [
    "# *Distancia entre planetas*"
   ]
  },
  {
   "cell_type": "code",
   "execution_count": 1,
   "metadata": {},
   "outputs": [
    {
     "name": "stdout",
     "output_type": "stream",
     "text": [
      "628949330\n"
     ]
    }
   ],
   "source": [
    "#Distancia de la Tierra 149.597.870 km  Júpiter 778.547.200 km\n",
    "tierra=int(149597870)\n",
    "jupiter=int(778547200)\n",
    "distancia=abs(jupiter-tierra)\n",
    "print(distancia)"
   ]
  },
  {
   "cell_type": "markdown",
   "metadata": {},
   "source": [
    "Distancia en millas"
   ]
  },
  {
   "cell_type": "code",
   "execution_count": 3,
   "metadata": {},
   "outputs": [
    {
     "name": "stdout",
     "output_type": "stream",
     "text": [
      "390577534\n"
     ]
    }
   ],
   "source": [
    "print(round(distancia*0.621))"
   ]
  },
  {
   "cell_type": "markdown",
   "metadata": {},
   "source": [
    "# *Distancia entre planetas (input)*"
   ]
  },
  {
   "cell_type": "code",
   "execution_count": 7,
   "metadata": {},
   "outputs": [
    {
     "name": "stdout",
     "output_type": "stream",
     "text": [
      "Valor en kilometros\n",
      "3716500000\n",
      "Valor en millas\n",
      "2307946500\n"
     ]
    }
   ],
   "source": [
    "planeta1=input('Introduzca la distancia del sol al primer planeta en KM')\n",
    "planeta2=input('Introduzca la distancia del sol al segundo planeta en KM')\n",
    "planeta1=int(planeta1)\n",
    "planeta2=int(planeta2)\n",
    "separacion=abs(planeta1-planeta2)\n",
    "print(\"Valor en kilometros\")\n",
    "print(separacion)\n",
    "print(\"Valor en millas\")\n",
    "print(round(separacion*0.621))\n",
    "\n"
   ]
  }
 ],
 "metadata": {
  "interpreter": {
   "hash": "3a555e031f921cec308b85ca21a0e976ded3f2bd321f13a8ca2fe088965d48db"
  },
  "kernelspec": {
   "display_name": "Python 3.9.10 64-bit (windows store)",
   "language": "python",
   "name": "python3"
  },
  "language_info": {
   "codemirror_mode": {
    "name": "ipython",
    "version": 3
   },
   "file_extension": ".py",
   "mimetype": "text/x-python",
   "name": "python",
   "nbconvert_exporter": "python",
   "pygments_lexer": "ipython3",
   "version": "3.9.10"
  },
  "orig_nbformat": 4
 },
 "nbformat": 4,
 "nbformat_minor": 2
}
