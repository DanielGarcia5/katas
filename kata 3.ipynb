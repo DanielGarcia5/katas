{
 "cells": [
  {
   "cell_type": "markdown",
   "metadata": {},
   "source": [
    "# Asteroides"
   ]
  },
  {
   "cell_type": "code",
   "execution_count": 14,
   "metadata": {},
   "outputs": [
    {
     "name": "stdout",
     "output_type": "stream",
     "text": [
      "Asteroide potencialmente peligroso acercandose\n"
     ]
    }
   ],
   "source": [
    "#Asteroide a 49 Km por hora\n",
    "#Velocidad peligrosa 25 km\n",
    "vel=49\n",
    "if vel > 25:\n",
    "    print(\"Asteroide potencialmente peligroso acercandose\")\n",
    "else:\n",
    "    print(\"Dsifrute de un dia libre de asteroides\")"
   ]
  },
  {
   "cell_type": "markdown",
   "metadata": {},
   "source": [
    "# Columnas de luz"
   ]
  },
  {
   "cell_type": "code",
   "execution_count": 17,
   "metadata": {},
   "outputs": [
    {
     "name": "stdout",
     "output_type": "stream",
     "text": [
      "nada que ver aqui\n"
     ]
    }
   ],
   "source": [
    "#Asteroide a 19 km\n",
    "ast2=19\n",
    "if ast2>20:\n",
    "    print(\"Observa la columna de luz\")\n",
    "elif ast2==20:\n",
    "    print(\"Observa la columna de luz\")\n",
    "else: \n",
    "    print(\"nada que ver aqui\")\n"
   ]
  },
  {
   "cell_type": "markdown",
   "metadata": {},
   "source": [
    "# Detector de asteroides"
   ]
  },
  {
   "cell_type": "code",
   "execution_count": 22,
   "metadata": {},
   "outputs": [
    {
     "name": "stdout",
     "output_type": "stream",
     "text": [
      "nada que ver aqui\n"
     ]
    }
   ],
   "source": [
    "# Diametro 40 metros\n",
    "# Velocidad 25\n",
    "diametro=40\n",
    "velocidad=25\n",
    "if diametro >25 and velocidad >25:\n",
    "    print(\"Asteroide muy peligroso en camino\")\n",
    "elif velocidad >= 20:\n",
    "    print(\"Observa la columna de luz\")\n",
    "elif diametro <25:\n",
    "    print(\"Nada que ver aqui\")\n",
    "else:\n",
    "    print (\"nada que ver aqui\")\n",
    "\n"
   ]
  }
 ],
 "metadata": {
  "interpreter": {
   "hash": "3a555e031f921cec308b85ca21a0e976ded3f2bd321f13a8ca2fe088965d48db"
  },
  "kernelspec": {
   "display_name": "Python 3.9.10 64-bit (windows store)",
   "language": "python",
   "name": "python3"
  },
  "language_info": {
   "codemirror_mode": {
    "name": "ipython",
    "version": 3
   },
   "file_extension": ".py",
   "mimetype": "text/x-python",
   "name": "python",
   "nbconvert_exporter": "python",
   "pygments_lexer": "ipython3",
   "version": "3.9.10"
  },
  "orig_nbformat": 4
 },
 "nbformat": 4,
 "nbformat_minor": 2
}
