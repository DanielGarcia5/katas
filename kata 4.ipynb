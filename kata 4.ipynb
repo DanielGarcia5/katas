{
 "cells": [
  {
   "cell_type": "markdown",
   "metadata": {},
   "source": [
    "# **The moon**"
   ]
  },
  {
   "cell_type": "markdown",
   "metadata": {},
   "source": [
    "# *Moon*"
   ]
  },
  {
   "cell_type": "code",
   "execution_count": 3,
   "metadata": {},
   "outputs": [],
   "source": [
    "# Datos con los que vas a trabajar\n",
    "name = \"Moon\"\n",
    "gravity = 0.00162 # in kms\n",
    "planet = \"Earth\"\n",
    "title = f'datos de gravedad sobre {name}'"
   ]
  },
  {
   "cell_type": "code",
   "execution_count": 8,
   "metadata": {},
   "outputs": [],
   "source": [
    "\n",
    "hechos = f\"\"\"{'-'*80} \n",
    "Nombre del planeta: {planet} \n",
    "Gravedad en {name}: {gravity * 1000} m/s2 \n",
    "\"\"\""
   ]
  }
 ],
 "metadata": {
  "interpreter": {
   "hash": "3a555e031f921cec308b85ca21a0e976ded3f2bd321f13a8ca2fe088965d48db"
  },
  "kernelspec": {
   "display_name": "Python 3.9.10 64-bit (windows store)",
   "language": "python",
   "name": "python3"
  },
  "language_info": {
   "codemirror_mode": {
    "name": "ipython",
    "version": 3
   },
   "file_extension": ".py",
   "mimetype": "text/x-python",
   "name": "python",
   "nbconvert_exporter": "python",
   "pygments_lexer": "ipython3",
   "version": "3.9.10"
  },
  "orig_nbformat": 4
 },
 "nbformat": 4,
 "nbformat_minor": 2
}
