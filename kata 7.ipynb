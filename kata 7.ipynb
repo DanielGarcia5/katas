{
 "cells": [
  {
   "cell_type": "markdown",
   "metadata": {},
   "source": [
    "# **Registrando planetas**"
   ]
  },
  {
   "cell_type": "code",
   "execution_count": 4,
   "metadata": {},
   "outputs": [
    {
     "name": "stdout",
     "output_type": "stream",
     "text": [
      "['Planetas', 'Earth', 'Tierra', 'Venus', 'Marte', 'Jupiter', 'Saturno']\n"
     ]
    }
   ],
   "source": [
    "nuevo_planeta=\"\"\n",
    "planetas = []\n",
    "while nuevo_planeta.lower() != \"done\":\n",
    "    if nuevo_planeta:\n",
    "        planetas.append(nuevo_planeta)\n",
    "    nuevo_planeta = input(\"Ingrese el nombre del nuevo planeta\")\n",
    "print(planetas)\n"
   ]
  },
  {
   "cell_type": "code",
   "execution_count": 5,
   "metadata": {},
   "outputs": [
    {
     "name": "stdout",
     "output_type": "stream",
     "text": [
      "['Planetas', 'Earth', 'Tierra', 'Venus', 'Marte', 'Jupiter', 'Saturno']\n",
      "['Planetas', 'Earth', 'Tierra', 'Venus', 'Marte', 'Jupiter', 'Saturno']\n",
      "['Planetas', 'Earth', 'Tierra', 'Venus', 'Marte', 'Jupiter', 'Saturno']\n",
      "['Planetas', 'Earth', 'Tierra', 'Venus', 'Marte', 'Jupiter', 'Saturno']\n",
      "['Planetas', 'Earth', 'Tierra', 'Venus', 'Marte', 'Jupiter', 'Saturno']\n",
      "['Planetas', 'Earth', 'Tierra', 'Venus', 'Marte', 'Jupiter', 'Saturno']\n",
      "['Planetas', 'Earth', 'Tierra', 'Venus', 'Marte', 'Jupiter', 'Saturno']\n"
     ]
    }
   ],
   "source": [
    "for planeta in planetas:\n",
    "    print(planetas)"
   ]
  }
 ],
 "metadata": {
  "interpreter": {
   "hash": "3a555e031f921cec308b85ca21a0e976ded3f2bd321f13a8ca2fe088965d48db"
  },
  "kernelspec": {
   "display_name": "Python 3.9.10 64-bit (windows store)",
   "language": "python",
   "name": "python3"
  },
  "language_info": {
   "codemirror_mode": {
    "name": "ipython",
    "version": 3
   },
   "file_extension": ".py",
   "mimetype": "text/x-python",
   "name": "python",
   "nbconvert_exporter": "python",
   "pygments_lexer": "ipython3",
   "version": "3.9.10"
  },
  "orig_nbformat": 4
 },
 "nbformat": 4,
 "nbformat_minor": 2
}
